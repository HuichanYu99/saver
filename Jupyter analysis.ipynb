{
 "cells": [
  {
   "cell_type": "code",
   "execution_count": 36,
   "id": "9a7f7530",
   "metadata": {},
   "outputs": [
    {
     "name": "stdout",
     "output_type": "stream",
     "text": [
      "['HY202103_D07_(0,-4)_LION1_DCM_LMZC.csv', 'HY202103_D08_(0,-4)_LION1_DCM_LMZC.csv', 'HY202103_D08_(0,-4)_LION1_DCM_LMZO.csv', 'HY202103_D23_(0,-4)_LION1_DCM_LMZO.csv', 'HY202103_D24_(0,-4)_LION1_DCM_LMZO.csv']\n"
     ]
    },
    {
     "data": {
      "text/html": [
       "<div>\n",
       "<style scoped>\n",
       "    .dataframe tbody tr th:only-of-type {\n",
       "        vertical-align: middle;\n",
       "    }\n",
       "\n",
       "    .dataframe tbody tr th {\n",
       "        vertical-align: top;\n",
       "    }\n",
       "\n",
       "    .dataframe thead th {\n",
       "        text-align: right;\n",
       "    }\n",
       "</style>\n",
       "<table border=\"1\" class=\"dataframe\">\n",
       "  <thead>\n",
       "    <tr style=\"text-align: right;\">\n",
       "      <th></th>\n",
       "      <th>Unnamed: 0</th>\n",
       "      <th>Lot</th>\n",
       "      <th>Wafer</th>\n",
       "      <th>Mask</th>\n",
       "      <th>TestSite</th>\n",
       "      <th>Name:</th>\n",
       "      <th>Date</th>\n",
       "      <th>Row</th>\n",
       "      <th>Column</th>\n",
       "      <th>Min</th>\n",
       "      <th>Max</th>\n",
       "      <th>R Square</th>\n",
       "    </tr>\n",
       "  </thead>\n",
       "  <tbody>\n",
       "    <tr>\n",
       "      <th>0</th>\n",
       "      <td>0</td>\n",
       "      <td>HY202103</td>\n",
       "      <td>D07</td>\n",
       "      <td>LION1</td>\n",
       "      <td>DCM_LMZC</td>\n",
       "      <td>MZMCTE_LULAB_450_500</td>\n",
       "      <td>2019-07-15 19:59:15</td>\n",
       "      <td>0</td>\n",
       "      <td>-4</td>\n",
       "      <td>-15.040720</td>\n",
       "      <td>-9.729835</td>\n",
       "      <td>-11782.102264</td>\n",
       "    </tr>\n",
       "    <tr>\n",
       "      <th>1</th>\n",
       "      <td>1</td>\n",
       "      <td>HY202103</td>\n",
       "      <td>D08</td>\n",
       "      <td>LION1</td>\n",
       "      <td>DCM_LMZC</td>\n",
       "      <td>MZMCTE_LULAB_450_500</td>\n",
       "      <td>2019-07-12 12:12:44</td>\n",
       "      <td>0</td>\n",
       "      <td>-4</td>\n",
       "      <td>-19.395564</td>\n",
       "      <td>-10.242751</td>\n",
       "      <td>-11803.966947</td>\n",
       "    </tr>\n",
       "    <tr>\n",
       "      <th>2</th>\n",
       "      <td>2</td>\n",
       "      <td>HY202103</td>\n",
       "      <td>D08</td>\n",
       "      <td>LION1</td>\n",
       "      <td>DCM_LMZO</td>\n",
       "      <td>MZMOTE_LULAB_380_500</td>\n",
       "      <td>2019-05-26 13:07:36</td>\n",
       "      <td>0</td>\n",
       "      <td>-4</td>\n",
       "      <td>-27.341336</td>\n",
       "      <td>-6.436825</td>\n",
       "      <td>-5818.598777</td>\n",
       "    </tr>\n",
       "    <tr>\n",
       "      <th>3</th>\n",
       "      <td>3</td>\n",
       "      <td>HY202103</td>\n",
       "      <td>D23</td>\n",
       "      <td>LION1</td>\n",
       "      <td>DCM_LMZO</td>\n",
       "      <td>MZMOTE_LULAB_380_500</td>\n",
       "      <td>2019-05-31 12:16:41</td>\n",
       "      <td>0</td>\n",
       "      <td>-4</td>\n",
       "      <td>-28.536235</td>\n",
       "      <td>-6.358549</td>\n",
       "      <td>-5821.671783</td>\n",
       "    </tr>\n",
       "    <tr>\n",
       "      <th>4</th>\n",
       "      <td>4</td>\n",
       "      <td>HY202103</td>\n",
       "      <td>D24</td>\n",
       "      <td>LION1</td>\n",
       "      <td>DCM_LMZO</td>\n",
       "      <td>MZMOTE_LULAB_380_500</td>\n",
       "      <td>2019-05-31 20:14:04</td>\n",
       "      <td>0</td>\n",
       "      <td>-4</td>\n",
       "      <td>-30.972599</td>\n",
       "      <td>-6.395083</td>\n",
       "      <td>-5825.257664</td>\n",
       "    </tr>\n",
       "  </tbody>\n",
       "</table>\n",
       "</div>"
      ],
      "text/plain": [
       "   Unnamed: 0       Lot Wafer   Mask  TestSite                 Name:  \\\n",
       "0           0  HY202103   D07  LION1  DCM_LMZC  MZMCTE_LULAB_450_500   \n",
       "1           1  HY202103   D08  LION1  DCM_LMZC  MZMCTE_LULAB_450_500   \n",
       "2           2  HY202103   D08  LION1  DCM_LMZO  MZMOTE_LULAB_380_500   \n",
       "3           3  HY202103   D23  LION1  DCM_LMZO  MZMOTE_LULAB_380_500   \n",
       "4           4  HY202103   D24  LION1  DCM_LMZO  MZMOTE_LULAB_380_500   \n",
       "\n",
       "                 Date  Row  Column        Min        Max      R Square  \n",
       "0 2019-07-15 19:59:15    0      -4 -15.040720  -9.729835 -11782.102264  \n",
       "1 2019-07-12 12:12:44    0      -4 -19.395564 -10.242751 -11803.966947  \n",
       "2 2019-05-26 13:07:36    0      -4 -27.341336  -6.436825  -5818.598777  \n",
       "3 2019-05-31 12:16:41    0      -4 -28.536235  -6.358549  -5821.671783  \n",
       "4 2019-05-31 20:14:04    0      -4 -30.972599  -6.395083  -5825.257664  "
      ]
     },
     "execution_count": 36,
     "metadata": {},
     "output_type": "execute_result"
    }
   ],
   "source": [
    "import os \n",
    "import pandas as pd\n",
    "import matplotlib.pyplot as plt\n",
    "path = str(os.getcwd()).replace(\"src\", \"\")\n",
    "sector_list = []\n",
    "listfolder = os.listdir(f'{path}'+'/result')\n",
    "for sector in listfolder:\n",
    "    if \".csv\" in sector:\n",
    "        sector_list.append(sector)\n",
    "    else:\n",
    "        continue\n",
    "print(sector_list)\n",
    "df_all_wafers = pd.DataFrame()\n",
    "for files in sector_list:\n",
    "    df = pd.read_csv(f'{path}'+'/result'+f'/{files}',dtype={'Code':str}, parse_dates=['Date'])\n",
    "#     df_all_wafers = pd.concat([df_all_wafers, df])\n",
    "# df_all_wafers\n",
    "df\n"
   ]
  },
  {
   "cell_type": "code",
   "execution_count": 45,
   "id": "e262aaef",
   "metadata": {},
   "outputs": [
    {
     "data": {
      "text/plain": [
       "<matplotlib.legend.Legend at 0x1fe114b3340>"
      ]
     },
     "execution_count": 45,
     "metadata": {},
     "output_type": "execute_result"
    },
    {
     "data": {
      "image/png": "[encoded data removed]",
      "text/plain": [
       "<Figure size 432x288 with 1 Axes>"
      ]
     },
     "metadata": {
      "needs_background": "light"
     },
     "output_type": "display_data"
    }
   ],
   "source": [
    "plt.plot(df['Min'],label = 'Min',marker = 'o', linestyle = '--')\n",
    "plt.plot(df['Max'],label = 'Max',marker = 's', ls = '-.')\n",
    "plt.legend(ncol = 2)"
   ]
  },
  {
   "cell_type": "code",
   "execution_count": 46,
   "id": "93f54784",
   "metadata": {},
   "outputs": [
    {
     "data": {
      "text/plain": [
       "<matplotlib.legend.Legend at 0x1fe114d8c10>"
      ]
     },
     "execution_count": 46,
     "metadata": {},
     "output_type": "execute_result"
    },
    {
     "data": {
      "image/png": "[encoded data removed]",
      "text/plain": [
       "<Figure size 432x288 with 1 Axes>"
      ]
     },
     "metadata": {
      "needs_background": "light"
     },
     "output_type": "display_data"
    }
   ],
   "source": [
    "plt.plot(df['R Square'],label = 'R square')\n",
    "plt.legend()"
   ]
  },
  {
   "cell_type": "code",
   "execution_count": null,
   "id": "28fb634a",
   "metadata": {},
   "outputs": [],
   "source": []
  },
  {
   "cell_type": "code",
   "execution_count": null,
   "id": "c9897a7b",
   "metadata": {},
   "outputs": [],
   "source": []
  },
  {
   "cell_type": "code",
   "execution_count": null,
   "id": "b705f277",
   "metadata": {},
   "outputs": [],
   "source": []
  },
  {
   "cell_type": "code",
   "execution_count": null,
   "id": "da92dd4a",
   "metadata": {},
   "outputs": [],
   "source": []
  },
  {
   "cell_type": "code",
   "execution_count": null,
   "id": "d0df2a78",
   "metadata": {},
   "outputs": [],
   "source": []
  },
  {
   "cell_type": "code",
   "execution_count": null,
   "id": "f144d8e2",
   "metadata": {},
   "outputs": [],
   "source": []
  },
  {
   "cell_type": "code",
   "execution_count": null,
   "id": "48541a00",
   "metadata": {},
   "outputs": [],
   "source": []
  }
 ],
 "metadata": {
  "kernelspec": {
   "display_name": "Python 3",
   "language": "python",
   "name": "python3"
  },
  "language_info": {
   "codemirror_mode": {
    "name": "ipython",
    "version": 3
   },
   "file_extension": ".py",
   "mimetype": "text/x-python",
   "name": "python",
   "nbconvert_exporter": "python",
   "pygments_lexer": "ipython3",
   "version": "3.8.8"
  }
 },
 "nbformat": 4,
 "nbformat_minor": 5
}
